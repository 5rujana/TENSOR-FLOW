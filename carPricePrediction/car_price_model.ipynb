{
 "cells": [
  {
   "cell_type": "markdown",
   "metadata": {},
   "source": [
    "task\n",
    "data\n",
    "modeling\n",
    "error measurement\n",
    "training and optimization\n",
    "performance measurement\n",
    "validating and testing\n",
    "corrective measures"
   ]
  },
  {
   "cell_type": "code",
   "execution_count": 1,
   "metadata": {},
   "outputs": [],
   "source": [
    "import tensorflow as tf\n",
    "import pandas as pd #reading and processing data\n",
    "import seaborn as sns #plotting and visualizing data\n",
    "from tensorflow.keras.layers import Normalization, Dense,InputLayer, Input\n",
    "from tensorflow.keras.losses import MeanSquaredError,MeanAbsoluteError,Huber\n",
    "import pydot\n",
    "import graphviz"
   ]
  },
  {
   "cell_type": "markdown",
   "metadata": {},
   "source": [
    "**Data Preperation**"
   ]
  },
  {
   "cell_type": "code",
   "execution_count": 2,
   "metadata": {},
   "outputs": [
    {
     "name": "stdout",
     "output_type": "stream",
     "text": [
      "(1000, 12)\n"
     ]
    }
   ],
   "source": [
    "data = pd.read_csv(\"D:/TENSOR FLOW/carPricePrediction/train.csv\", sep=\",\")\n",
    "data.head()\n",
    "print(data.shape)  "
   ]
  },
  {
   "cell_type": "code",
   "execution_count": 3,
   "metadata": {},
   "outputs": [
    {
     "name": "stdout",
     "output_type": "stream",
     "text": [
      "   v.id  on road old  on road now  years     km  rating  condition  economy  \\\n",
      "0     1       535651       798186      3  78945       1          2       14   \n",
      "\n",
      "   top speed  hp  torque  current price  \n",
      "0        177  73     123         351318  \n",
      "(1, 12)\n"
     ]
    }
   ],
   "source": [
    "datap = pd.read_csv(\"D:/TENSOR FLOW/carPricePrediction/train_semi.csv\", sep=\";\")\n",
    "print(datap.head())\n",
    "print(datap.shape)"
   ]
  },
  {
   "cell_type": "code",
   "execution_count": 4,
   "metadata": {},
   "outputs": [
    {
     "data": {
      "text/plain": [
       "<seaborn.axisgrid.PairGrid at 0x25ddb153650>"
      ]
     },
     "execution_count": 4,
     "metadata": {},
     "output_type": "execute_result"
    }
   ],
   "source": [
    "sns.pairplot(data[['years', 'km', 'rating', 'condition', 'economy', 'top speed', 'hp', 'torque', 'current price']], diag_kind='kde')"
   ]
  },
  {
   "cell_type": "code",
   "execution_count": null,
   "metadata": {},
   "outputs": [
    {
     "name": "stdout",
     "output_type": "stream",
     "text": [
      "tf.Tensor(\n",
      "[[1.000000e+00 5.356510e+05 7.981860e+05 ... 7.300000e+01 1.230000e+02\n",
      "  3.513180e+05]\n",
      " [2.000000e+00 5.919110e+05 8.610560e+05 ... 7.400000e+01 9.500000e+01\n",
      "  2.850015e+05]\n",
      " [3.000000e+00 6.869900e+05 7.707620e+05 ... 5.300000e+01 9.700000e+01\n",
      "  2.153860e+05]\n",
      " ...\n",
      " [9.980000e+02 6.463440e+05 8.427330e+05 ... 1.130000e+02 8.900000e+01\n",
      "  4.058710e+05]\n",
      " [9.990000e+02 5.355590e+05 7.324390e+05 ... 1.120000e+02 1.280000e+02\n",
      "  7.439800e+04]\n",
      " [1.000000e+03 5.901050e+05 7.797430e+05 ... 9.900000e+01 9.600000e+01\n",
      "  4.149385e+05]], shape=(1000, 12), dtype=float32)\n"
     ]
    }
   ],
   "source": [
    "tensor_data = tf.constant(data.values)\n",
    "tensor_data = tf.cast(tensor_data, tf.float32)\n",
    "print(tensor_data)\n"
   ]
  },
  {
   "cell_type": "markdown",
   "metadata": {},
   "source": []
  },
  {
   "cell_type": "markdown",
   "metadata": {},
   "source": [
    "so to avoid any bias by the way in which data is collected, we shuffle the data"
   ]
  },
  {
   "cell_type": "code",
   "execution_count": null,
   "metadata": {},
   "outputs": [
    {
     "name": "stdout",
     "output_type": "stream",
     "text": [
      "tf.Tensor(\n",
      "[[9.660000e+02 6.742740e+05 8.778200e+05 6.000000e+00 1.193560e+05\n",
      "  2.000000e+00 7.000000e+00 1.300000e+01 1.940000e+02 5.900000e+01\n",
      "  1.070000e+02 3.034190e+05]\n",
      " [3.500000e+01 6.304890e+05 7.171820e+05 5.000000e+00 9.622600e+04\n",
      "  1.000000e+00 9.000000e+00 8.000000e+00 1.910000e+02 1.010000e+02\n",
      "  9.400000e+01 3.171190e+05]\n",
      " [3.620000e+02 6.986120e+05 8.680920e+05 4.000000e+00 1.398590e+05\n",
      "  3.000000e+00 6.000000e+00 1.400000e+01 1.880000e+02 5.400000e+01\n",
      "  7.300000e+01 2.276690e+05]\n",
      " [5.700000e+02 6.014620e+05 7.001770e+05 3.000000e+00 6.977900e+04\n",
      "  4.000000e+00 6.000000e+00 1.500000e+01 1.760000e+02 5.600000e+01\n",
      "  1.140000e+02 3.762675e+05]\n",
      " [7.370000e+02 5.309510e+05 7.410860e+05 4.000000e+00 1.163180e+05\n",
      "  3.000000e+00 8.000000e+00 1.500000e+01 1.710000e+02 1.060000e+02\n",
      "  1.180000e+02 1.870500e+05]], shape=(5, 12), dtype=float32)\n"
     ]
    }
   ],
   "source": [
    "tensor_data = tf.random.shuffle(tensor_data)\n",
    "print(tensor_data[:5])"
   ]
  },
  {
   "cell_type": "code",
   "execution_count": null,
   "metadata": {},
   "outputs": [
    {
     "name": "stdout",
     "output_type": "stream",
     "text": [
      "(1000, 8)\n",
      "tf.Tensor(\n",
      "[[6.00000e+00 1.19356e+05 2.00000e+00 7.00000e+00 1.30000e+01 1.94000e+02\n",
      "  5.90000e+01 1.07000e+02]\n",
      " [5.00000e+00 9.62260e+04 1.00000e+00 9.00000e+00 8.00000e+00 1.91000e+02\n",
      "  1.01000e+02 9.40000e+01]\n",
      " [4.00000e+00 1.39859e+05 3.00000e+00 6.00000e+00 1.40000e+01 1.88000e+02\n",
      "  5.40000e+01 7.30000e+01]\n",
      " [3.00000e+00 6.97790e+04 4.00000e+00 6.00000e+00 1.50000e+01 1.76000e+02\n",
      "  5.60000e+01 1.14000e+02]\n",
      " [4.00000e+00 1.16318e+05 3.00000e+00 8.00000e+00 1.50000e+01 1.71000e+02\n",
      "  1.06000e+02 1.18000e+02]], shape=(5, 8), dtype=float32)\n",
      "(5,)\n",
      "tf.Tensor(\n",
      "[[303419. ]\n",
      " [317119. ]\n",
      " [227669. ]\n",
      " [376267.5]\n",
      " [187050. ]], shape=(5, 1), dtype=float32)\n"
     ]
    }
   ],
   "source": [
    "x = tensor_data[:,3:-1]\n",
    "print(x.shape)\n",
    "print(x[:5])\n",
    "\n",
    "\n",
    "y = tensor_data[:,-1]\n",
    "print(y[:5].shape)\n",
    "y = tf.expand_dims(y, axis = -1)\n",
    "print(y[:5])"
   ]
  },
  {
   "cell_type": "markdown",
   "metadata": {},
   "source": [
    "**Normalizing the data**"
   ]
  },
  {
   "cell_type": "code",
   "execution_count": null,
   "metadata": {},
   "outputs": [
    {
     "data": {
      "text/plain": [
       "<tf.Tensor: shape=(5, 8), dtype=float32, numpy=\n",
       "array([[ 0.8374948 ,  0.6549165 , -0.70466214,  0.4987537 ,  0.6167485 ,\n",
       "         1.4060569 , -1.2457402 ,  0.16994357],\n",
       "       [ 0.25549707, -0.13894996, -1.417883  ,  1.2072107 , -1.6259733 ,\n",
       "         1.250445  ,  0.80237275, -0.4476869 ],\n",
       "       [-0.32650065,  1.3586192 ,  0.00855871,  0.14452522,  1.065293  ,\n",
       "         1.0948331 , -1.4895632 , -1.4453977 ],\n",
       "       [-0.9084984 , -1.0466623 ,  0.7217796 ,  0.14452522,  1.5138373 ,\n",
       "         0.47238556, -1.3920339 ,  0.5025138 ],\n",
       "       [-0.32650065,  0.5506464 ,  0.00855871,  0.85298216,  1.5138373 ,\n",
       "         0.2130324 ,  1.0461957 ,  0.692554  ]], dtype=float32)>"
      ]
     },
     "execution_count": 411,
     "metadata": {},
     "output_type": "execute_result"
    }
   ],
   "source": [
    "normalizer = Normalization()\n",
    "normalizer.adapt(x)\n",
    "normalizer(x)[:5]\n"
   ]
  },
  {
   "cell_type": "markdown",
   "metadata": {},
   "source": [
    "**Linear Regression Model** "
   ]
  },
  {
   "cell_type": "code",
   "execution_count": null,
   "metadata": {},
   "outputs": [
    {
     "name": "stderr",
     "output_type": "stream",
     "text": [
      "c:\\Users\\chaga\\AppData\\Local\\Programs\\Python\\Python311\\Lib\\site-packages\\keras\\src\\layers\\core\\input_layer.py:25: UserWarning: Argument `input_shape` is deprecated. Use `shape` instead.\n",
      "  warnings.warn(\n"
     ]
    },
    {
     "data": {
      "text/html": [
       "<pre style=\"white-space:pre;overflow-x:auto;line-height:normal;font-family:Menlo,'DejaVu Sans Mono',consolas,'Courier New',monospace\"><span style=\"font-weight: bold\">Model: \"sequential_104\"</span>\n",
       "</pre>\n"
      ],
      "text/plain": [
       "\u001b[1mModel: \"sequential_104\"\u001b[0m\n"
      ]
     },
     "metadata": {},
     "output_type": "display_data"
    },
    {
     "data": {
      "text/html": [
       "<pre style=\"white-space:pre;overflow-x:auto;line-height:normal;font-family:Menlo,'DejaVu Sans Mono',consolas,'Courier New',monospace\">┏━━━━━━━━━━━━━━━━━━━━━━━━━━━━━━━━━┳━━━━━━━━━━━━━━━━━━━━━━━━┳━━━━━━━━━━━━━━━┓\n",
       "┃<span style=\"font-weight: bold\"> Layer (type)                    </span>┃<span style=\"font-weight: bold\"> Output Shape           </span>┃<span style=\"font-weight: bold\">       Param # </span>┃\n",
       "┡━━━━━━━━━━━━━━━━━━━━━━━━━━━━━━━━━╇━━━━━━━━━━━━━━━━━━━━━━━━╇━━━━━━━━━━━━━━━┩\n",
       "│ normalization_86                │ (<span style=\"color: #00d7ff; text-decoration-color: #00d7ff\">None</span>, <span style=\"color: #00af00; text-decoration-color: #00af00\">8</span>)              │            <span style=\"color: #00af00; text-decoration-color: #00af00\">17</span> │\n",
       "│ (<span style=\"color: #0087ff; text-decoration-color: #0087ff\">Normalization</span>)                 │                        │               │\n",
       "├─────────────────────────────────┼────────────────────────┼───────────────┤\n",
       "│ dense_64 (<span style=\"color: #0087ff; text-decoration-color: #0087ff\">Dense</span>)                │ (<span style=\"color: #00d7ff; text-decoration-color: #00d7ff\">None</span>, <span style=\"color: #00af00; text-decoration-color: #00af00\">1</span>)              │             <span style=\"color: #00af00; text-decoration-color: #00af00\">9</span> │\n",
       "└─────────────────────────────────┴────────────────────────┴───────────────┘\n",
       "</pre>\n"
      ],
      "text/plain": [
       "┏━━━━━━━━━━━━━━━━━━━━━━━━━━━━━━━━━┳━━━━━━━━━━━━━━━━━━━━━━━━┳━━━━━━━━━━━━━━━┓\n",
       "┃\u001b[1m \u001b[0m\u001b[1mLayer (type)                   \u001b[0m\u001b[1m \u001b[0m┃\u001b[1m \u001b[0m\u001b[1mOutput Shape          \u001b[0m\u001b[1m \u001b[0m┃\u001b[1m \u001b[0m\u001b[1m      Param #\u001b[0m\u001b[1m \u001b[0m┃\n",
       "┡━━━━━━━━━━━━━━━━━━━━━━━━━━━━━━━━━╇━━━━━━━━━━━━━━━━━━━━━━━━╇━━━━━━━━━━━━━━━┩\n",
       "│ normalization_86                │ (\u001b[38;5;45mNone\u001b[0m, \u001b[38;5;34m8\u001b[0m)              │            \u001b[38;5;34m17\u001b[0m │\n",
       "│ (\u001b[38;5;33mNormalization\u001b[0m)                 │                        │               │\n",
       "├─────────────────────────────────┼────────────────────────┼───────────────┤\n",
       "│ dense_64 (\u001b[38;5;33mDense\u001b[0m)                │ (\u001b[38;5;45mNone\u001b[0m, \u001b[38;5;34m1\u001b[0m)              │             \u001b[38;5;34m9\u001b[0m │\n",
       "└─────────────────────────────────┴────────────────────────┴───────────────┘\n"
      ]
     },
     "metadata": {},
     "output_type": "display_data"
    },
    {
     "data": {
      "text/html": [
       "<pre style=\"white-space:pre;overflow-x:auto;line-height:normal;font-family:Menlo,'DejaVu Sans Mono',consolas,'Courier New',monospace\"><span style=\"font-weight: bold\"> Total params: </span><span style=\"color: #00af00; text-decoration-color: #00af00\">26</span> (108.00 B)\n",
       "</pre>\n"
      ],
      "text/plain": [
       "\u001b[1m Total params: \u001b[0m\u001b[38;5;34m26\u001b[0m (108.00 B)\n"
      ]
     },
     "metadata": {},
     "output_type": "display_data"
    },
    {
     "data": {
      "text/html": [
       "<pre style=\"white-space:pre;overflow-x:auto;line-height:normal;font-family:Menlo,'DejaVu Sans Mono',consolas,'Courier New',monospace\"><span style=\"font-weight: bold\"> Trainable params: </span><span style=\"color: #00af00; text-decoration-color: #00af00\">9</span> (36.00 B)\n",
       "</pre>\n"
      ],
      "text/plain": [
       "\u001b[1m Trainable params: \u001b[0m\u001b[38;5;34m9\u001b[0m (36.00 B)\n"
      ]
     },
     "metadata": {},
     "output_type": "display_data"
    },
    {
     "data": {
      "text/html": [
       "<pre style=\"white-space:pre;overflow-x:auto;line-height:normal;font-family:Menlo,'DejaVu Sans Mono',consolas,'Courier New',monospace\"><span style=\"font-weight: bold\"> Non-trainable params: </span><span style=\"color: #00af00; text-decoration-color: #00af00\">17</span> (72.00 B)\n",
       "</pre>\n"
      ],
      "text/plain": [
       "\u001b[1m Non-trainable params: \u001b[0m\u001b[38;5;34m17\u001b[0m (72.00 B)\n"
      ]
     },
     "metadata": {},
     "output_type": "display_data"
    }
   ],
   "source": [
    "model = tf.keras.Sequential([\n",
    "    #Input(shape=(x.shape[1],)), # Input function \n",
    "    InputLayer(input_shape = (8,)),\n",
    "    normalizer,\n",
    "    Dense(1)\n",
    "])\n",
    "model.summary()"
   ]
  },
  {
   "cell_type": "code",
   "execution_count": null,
   "metadata": {},
   "outputs": [
    {
     "name": "stdout",
     "output_type": "stream",
     "text": [
      "You must install pydot (`pip install pydot`) for `plot_model` to work.\n"
     ]
    }
   ],
   "source": [
    "tf.keras.utils.plot_model(model, to_file=\"model.png\" , show_shapes=True)"
   ]
  },
  {
   "cell_type": "code",
   "execution_count": null,
   "metadata": {},
   "outputs": [],
   "source": [
    "model.compile(loss= MeanSquaredError())\n",
    "model.compile(loss = Huber())\n",
    "model.compile(loss = MeanAbsoluteError())"
   ]
  },
  {
   "cell_type": "code",
   "execution_count": null,
   "metadata": {},
   "outputs": [],
   "source": []
  },
  {
   "cell_type": "markdown",
   "metadata": {},
   "source": [
    "SGD\n",
    "W = Wp - (LR) rho"
   ]
  }
 ],
 "metadata": {
  "kernelspec": {
   "display_name": "Python 3",
   "language": "python",
   "name": "python3"
  },
  "language_info": {
   "codemirror_mode": {
    "name": "ipython",
    "version": 3
   },
   "file_extension": ".py",
   "mimetype": "text/x-python",
   "name": "python",
   "nbconvert_exporter": "python",
   "pygments_lexer": "ipython3",
   "version": "3.11.8"
  }
 },
 "nbformat": 4,
 "nbformat_minor": 2
}
