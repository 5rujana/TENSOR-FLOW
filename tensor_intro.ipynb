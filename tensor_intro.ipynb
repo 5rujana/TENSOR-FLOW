{
 "cells": [
  {
   "cell_type": "markdown",
   "metadata": {},
   "source": [
    "Tensors are Multi Dimentional arrays\n",
    "An array is an ordered arrangement of numbers"
   ]
  },
  {
   "cell_type": "code",
   "execution_count": 2,
   "metadata": {},
   "outputs": [],
   "source": [
    "import tensorflow as tf"
   ]
  },
  {
   "cell_type": "code",
   "execution_count": 3,
   "metadata": {},
   "outputs": [
    {
     "name": "stdout",
     "output_type": "stream",
     "text": [
      "tf.Tensor(4, shape=(), dtype=int32)\n",
      "tf.Tensor([ 2.3  0.  -3. ], shape=(3,), dtype=float32)\n",
      "tf.Tensor(\n",
      "[[ 1  2  0]\n",
      " [ 3  5 -1]\n",
      " [ 1  5  6]\n",
      " [ 2  3  8]], shape=(4, 3), dtype=int32)\n",
      "tf.Tensor(\n",
      "[[[ 1  2  0]\n",
      "  [ 3  5 -1]]\n",
      "\n",
      " [[ 1  5  6]\n",
      "  [ 2  3  8]]\n",
      "\n",
      " [[ 4  2  3]\n",
      "  [ 5  1  2]]], shape=(3, 2, 3), dtype=int32)\n",
      "(3, 2, 3)\n",
      "3\n"
     ]
    }
   ],
   "source": [
    "tensor_zero_d = tf.constant(4) #tensor_zero_d is a 0-d tensor with value 4\n",
    "print(tensor_zero_d)\n",
    "\n",
    "tensor_one_d = tf.constant([2.3,0,-3]) #tensor_one_d is a 1-d tensor with value [2,0,-3]\n",
    "print(tensor_one_d)\n",
    "\n",
    "tensor_two_d = tf.constant([\n",
    "    [1,2,0],\n",
    "    [3,5,-1],\n",
    "    [1,5,6],\n",
    "    [2,3,8]]) #tensor_two_d is a 2-d tensor with value [[1,2,0],[3,5,-1],[1,5,6][2,3,8]]\n",
    "print(tensor_two_d)\n",
    "\n",
    "tensor_three_d = tf.constant([\n",
    "    [\n",
    "        [1,2,0],\n",
    "        [3,5,-1]\n",
    "    ],\n",
    "    [\n",
    "        [1,5,6],\n",
    "        [2,3,8]\n",
    "    ],\n",
    "    [\n",
    "        [4,2,3],\n",
    "        [5,1,2]\n",
    "    ]\n",
    "])\n",
    "print(tensor_three_d) #tensor_three_d is a 3-d tensor with value [[[1,2,0],[3,5,-1]],[[1,5,6],[2,3,8]],[[4,2,3],[5,1,2]]]\n",
    "print(tensor_three_d.shape) #shape of tensor_three_d is (3,2,3) which means 3 matrices of 2x3\n",
    "print(tensor_three_d.ndim) #dimension of tensor_three_d is 3"
   ]
  },
  {
   "cell_type": "code",
   "execution_count": 4,
   "metadata": {},
   "outputs": [
    {
     "name": "stdout",
     "output_type": "stream",
     "text": [
      "tf.Tensor([ 2  0 -3], shape=(3,), dtype=int32)\n"
     ]
    }
   ],
   "source": [
    "casted_tensor_one_d = tf.cast(tensor_one_d, tf.int32) #casting tensor_one_d to float32 \n",
    "print(casted_tensor_one_d)  "
   ]
  },
  {
   "cell_type": "code",
   "execution_count": 5,
   "metadata": {},
   "outputs": [
    {
     "name": "stdout",
     "output_type": "stream",
     "text": [
      "tf.Tensor([ True False False  True], shape=(4,), dtype=bool)\n",
      "tf.Tensor([b'Hello, World!' b'Hi'], shape=(2,), dtype=string)\n"
     ]
    }
   ],
   "source": [
    "tensor_bool = tf.constant([True, False, False, True]) #tensor_bool is a 1-d tensor with value [True, False, False, True]\n",
    "print(tensor_bool)\n",
    "tensor_string = tf.constant([\"Hello, World!\",\"Hi\"]) #tensor_string is a 0-d tensor with value \"Hello, World!\"\n",
    "print(tensor_string)"
   ]
  },
  {
   "cell_type": "code",
   "execution_count": 6,
   "metadata": {},
   "outputs": [],
   "source": [
    "import numpy as np"
   ]
  },
  {
   "cell_type": "code",
   "execution_count": 7,
   "metadata": {},
   "outputs": [
    {
     "name": "stdout",
     "output_type": "stream",
     "text": [
      "[1 2 4]\n"
     ]
    }
   ],
   "source": [
    "np_array = np.array([1,2,4])\n",
    "print(np_array)"
   ]
  },
  {
   "cell_type": "code",
   "execution_count": 8,
   "metadata": {},
   "outputs": [
    {
     "name": "stdout",
     "output_type": "stream",
     "text": [
      "tf.Tensor([1 2 4], shape=(3,), dtype=int32)\n"
     ]
    }
   ],
   "source": [
    "converted_tensor = tf.convert_to_tensor(np_array)#converting numpy array to tensor\n",
    "print(converted_tensor)"
   ]
  },
  {
   "cell_type": "markdown",
   "metadata": {},
   "source": [
    "eye() functionality is used to generate identity matrix"
   ]
  },
  {
   "cell_type": "code",
   "execution_count": 9,
   "metadata": {},
   "outputs": [
    {
     "name": "stdout",
     "output_type": "stream",
     "text": [
      "tf.Tensor(\n",
      "[[[1 0 0 0 0]\n",
      "  [0 1 0 0 0]\n",
      "  [0 0 1 0 0]\n",
      "  [0 0 0 1 0]\n",
      "  [0 0 0 0 1]]\n",
      "\n",
      " [[1 0 0 0 0]\n",
      "  [0 1 0 0 0]\n",
      "  [0 0 1 0 0]\n",
      "  [0 0 0 1 0]\n",
      "  [0 0 0 0 1]]\n",
      "\n",
      " [[1 0 0 0 0]\n",
      "  [0 1 0 0 0]\n",
      "  [0 0 1 0 0]\n",
      "  [0 0 0 1 0]\n",
      "  [0 0 0 0 1]]], shape=(3, 5, 5), dtype=int16)\n"
     ]
    }
   ],
   "source": [
    "eye_tensor = tf.eye( \n",
    "    num_rows=5,\n",
    "    num_columns=5,\n",
    "    batch_shape=[3], #shape of the batch of matrices\n",
    "    dtype=tf.dtypes.int16,\n",
    "    name=None\n",
    ")\n",
    "print(eye_tensor)"
   ]
  },
  {
   "cell_type": "markdown",
   "metadata": {},
   "source": [
    "tf.fill():\n",
    "Creates a tensor filled with a scalar value\n",
    "\n",
    "tf.ones(shape,\n",
    "dtype = tf.dtypes.float32,\n",
    "name= None):\n",
    "Creates a tensor with all elements set to one (1)\n",
    "\n",
    "tf.ones_like(\n",
    "    input,dtype = None,name = None\n",
    "):\n",
    "Creates a tensor of all ones that has the same shape as the input\n",
    "\n",
    "tf.zeros()\n",
    "Creates a tensor with all elements set to zero"
   ]
  },
  {
   "cell_type": "code",
   "execution_count": 10,
   "metadata": {},
   "outputs": [
    {
     "name": "stdout",
     "output_type": "stream",
     "text": [
      "tf.Tensor(\n",
      "[[5 5 5 5]\n",
      " [5 5 5 5]\n",
      " [5 5 5 5]], shape=(3, 4), dtype=int32)\n",
      "tf.Tensor(\n",
      "[[1 1 1]\n",
      " [1 1 1]], shape=(2, 3), dtype=int32)\n",
      "tf.Tensor(\n",
      "[[1 1 1 1]\n",
      " [1 1 1 1]\n",
      " [1 1 1 1]], shape=(3, 4), dtype=int32)\n",
      "tf.Tensor(\n",
      "[[0 0 0 0]\n",
      " [0 0 0 0]\n",
      " [0 0 0 0]], shape=(3, 4), dtype=int32)\n"
     ]
    }
   ],
   "source": [
    "fill_tensor = tf.fill(\n",
    "    [3,4],5,#3*4 matrix with all elements as 5\n",
    "    name=\"5-matrix\"\n",
    ")\n",
    "\n",
    "print(fill_tensor)\n",
    "\n",
    "ones_tensor = tf.ones(\n",
    "    [2,3],#2*3 matrix with all elements as 1\n",
    "    tf.dtypes.int32,\n",
    "    name=\"1-matrix\"\n",
    ")\n",
    "\n",
    "print(ones_tensor)\n",
    "\n",
    "ones_like_tensor = tf.ones_like(\n",
    "    fill_tensor,\n",
    "    dtype=None,\n",
    "    name=\"ones_like_tensor\"\n",
    ")\n",
    "\n",
    "print(ones_like_tensor)\n",
    "\n",
    "zeros_tensor = tf.zeros(\n",
    "    [3,4],#3*4 matrix with all elements as 0\n",
    "    tf.dtypes.int32,\n",
    "    name=\"0-matrix\"\n",
    ")\n",
    "print(zeros_tensor)"
   ]
  },
  {
   "cell_type": "code",
   "execution_count": 11,
   "metadata": {},
   "outputs": [
    {
     "data": {
      "text/plain": [
       "<tf.Tensor: shape=(), dtype=int32, numpy=6>"
      ]
     },
     "execution_count": 11,
     "metadata": {},
     "output_type": "execute_result"
    }
   ],
   "source": [
    "t = tf.constant([[1,2,3],[4,5,6]])\n",
    "tf.rank(t) \n",
    "tf.size(t, out_type=tf.dtypes.int32)\n"
   ]
  },
  {
   "cell_type": "markdown",
   "metadata": {},
   "source": [
    "tf.random.normal(\n",
    "    shape,\n",
    "    mean = 0.0,\n",
    "    stddev=1.0,\n",
    "    dtype=tf.dtypes.float32,\n",
    "    seed = None,\n",
    "    name=None\n",
    "):\n",
    "Outputs random values from a normal distribution"
   ]
  },
  {
   "cell_type": "code",
   "execution_count": 12,
   "metadata": {},
   "outputs": [
    {
     "name": "stdout",
     "output_type": "stream",
     "text": [
      "tf.Tensor(\n",
      "[[ 9.496778 10.874689  9.029537  8.820302]\n",
      " [11.122498 12.495474 10.369982 10.884469]\n",
      " [ 9.212329 10.522087 10.826908 10.617887]], shape=(3, 4), dtype=float32)\n"
     ]
    }
   ],
   "source": [
    "random_tensor = tf.random.normal(\n",
    "    [3,4],\n",
    "    mean=10.0, # the numbers are near to 10 as we gave mean as 10\n",
    "    stddev=1.4, #the variation from 10 is depedned on the standard deviation\n",
    "    dtype=tf.dtypes.float32,\n",
    "    seed=None,\n",
    "    name=None\n",
    ")\n",
    "print(random_tensor)"
   ]
  },
  {
   "cell_type": "code",
   "execution_count": 13,
   "metadata": {},
   "outputs": [
    {
     "name": "stdout",
     "output_type": "stream",
     "text": [
      "tf.Tensor([98.6429   99.729126 95.10134  99.63769  96.84608 ], shape=(5,), dtype=float32)\n"
     ]
    }
   ],
   "source": [
    "random_tensor = tf.random.uniform(\n",
    "    [5,],\n",
    "    minval=95, \n",
    "    maxval=100, \n",
    "    dtype=tf.dtypes.float32,\n",
    "    seed=None,\n",
    "    name=None\n",
    ")\n",
    "print(random_tensor)"
   ]
  },
  {
   "cell_type": "code",
   "execution_count": 14,
   "metadata": {},
   "outputs": [
    {
     "name": "stdout",
     "output_type": "stream",
     "text": [
      "tf.Tensor(\n",
      "[[3 7 5 4]\n",
      " [1 4 6 8]\n",
      " [4 1 8 4]], shape=(3, 4), dtype=int32)\n"
     ]
    }
   ],
   "source": [
    "tf.random.set_seed(5)\n",
    "print(tf.random.uniform(shape=[3,4],maxval = 9,dtype=tf.dtypes.int32 , seed=1))\n"
   ]
  },
  {
   "cell_type": "markdown",
   "metadata": {},
   "source": [
    "Indexing"
   ]
  },
  {
   "cell_type": "code",
   "execution_count": 15,
   "metadata": {},
   "outputs": [
    {
     "name": "stdout",
     "output_type": "stream",
     "text": [
      "tf.Tensor([ 3 16  2  4  6 14  7], shape=(7,), dtype=int32)\n",
      "Indexing the tensor\n",
      "tf.Tensor(3, shape=(), dtype=int32)\n",
      "tf.Tensor(16, shape=(), dtype=int32)\n",
      "tf.Tensor(2, shape=(), dtype=int32)\n",
      "tf.Tensor(4, shape=(), dtype=int32)\n",
      "tf.Tensor(6, shape=(), dtype=int32)\n",
      "tf.Tensor(14, shape=(), dtype=int32)\n",
      "tf.Tensor(7, shape=(), dtype=int32)\n",
      "slicing the tensor\n",
      "tf.Tensor([ 3 16  2  4], shape=(4,), dtype=int32)\n"
     ]
    }
   ],
   "source": [
    "tensor_indexed = tf.constant([3,16,2,4,6,14,7])\n",
    "print(tensor_indexed) \n",
    "print(\"Indexing the tensor\")\n",
    "for i in range(tensor_indexed.shape[0]):\n",
    "    print(tensor_indexed[i])\n",
    "print(\"slicing the tensor\")\n",
    "print(tensor_indexed[0:4]) #slicing the tensor from index 1 to 4\n"
   ]
  },
  {
   "cell_type": "code",
   "execution_count": 16,
   "metadata": {},
   "outputs": [
    {
     "name": "stdout",
     "output_type": "stream",
     "text": [
      "tf.Tensor(\n",
      "[[1 2 3]\n",
      " [4 5 6]\n",
      " [7 8 9]], shape=(3, 3), dtype=int32)\n",
      "Indexing the tensor\n",
      "tf.Tensor(1, shape=(), dtype=int32)\n",
      "tf.Tensor(2, shape=(), dtype=int32)\n",
      "tf.Tensor(3, shape=(), dtype=int32)\n",
      "tf.Tensor(4, shape=(), dtype=int32)\n",
      "tf.Tensor(5, shape=(), dtype=int32)\n",
      "tf.Tensor(6, shape=(), dtype=int32)\n",
      "tf.Tensor(7, shape=(), dtype=int32)\n",
      "tf.Tensor(8, shape=(), dtype=int32)\n",
      "tf.Tensor(9, shape=(), dtype=int32)\n",
      "slicing the tensor\n",
      "tf.Tensor(\n",
      "[[1 2]\n",
      " [4 5]], shape=(2, 2), dtype=int32)\n"
     ]
    }
   ],
   "source": [
    "tensor_indexed_2d = tf.constant([ \n",
    "    [1,2,3],\n",
    "    [4,5,6],\n",
    "    [7,8,9]\n",
    "])\n",
    "print(tensor_indexed_2d)\n",
    "print(\"Indexing the tensor\")\n",
    "for i in range(tensor_indexed_2d.shape[0]):\n",
    "    for j in range(tensor_indexed_2d.shape[1]):\n",
    "        print(tensor_indexed_2d[i][j])\n",
    "\n",
    "print(\"slicing the tensor\")\n",
    "print(tensor_indexed_2d[0:2,0:2]) #slicing the tensor from index 1 to 4"
   ]
  },
  {
   "cell_type": "code",
   "execution_count": 17,
   "metadata": {},
   "outputs": [
    {
     "name": "stdout",
     "output_type": "stream",
     "text": [
      "tf.Tensor(\n",
      "[[[ 1  2  3]\n",
      "  [ 4  5  6]]\n",
      "\n",
      " [[ 7  8  9]\n",
      "  [10 11 12]]], shape=(2, 2, 3), dtype=int32)\n",
      "Indexing the tensor\n",
      "tf.Tensor(1, shape=(), dtype=int32)\n",
      "tf.Tensor(2, shape=(), dtype=int32)\n",
      "tf.Tensor(3, shape=(), dtype=int32)\n",
      "tf.Tensor(4, shape=(), dtype=int32)\n",
      "tf.Tensor(5, shape=(), dtype=int32)\n",
      "tf.Tensor(6, shape=(), dtype=int32)\n",
      "tf.Tensor(7, shape=(), dtype=int32)\n",
      "tf.Tensor(8, shape=(), dtype=int32)\n",
      "tf.Tensor(9, shape=(), dtype=int32)\n",
      "tf.Tensor(10, shape=(), dtype=int32)\n",
      "tf.Tensor(11, shape=(), dtype=int32)\n",
      "tf.Tensor(12, shape=(), dtype=int32)\n",
      "slicing the tensor\n",
      "tf.Tensor([[[1 2]]], shape=(1, 1, 2), dtype=int32)\n"
     ]
    }
   ],
   "source": [
    "tensor_indexed_3d = tf.constant([\n",
    "    [\n",
    "        [1,2,3],\n",
    "        [4,5,6]\n",
    "    ],\n",
    "    [\n",
    "        [7,8,9],\n",
    "        [10,11,12]\n",
    "    ]\n",
    "])\n",
    "print(tensor_indexed_3d)\n",
    "print(\"Indexing the tensor\")\n",
    "for i in range(tensor_indexed_3d.shape[0]):\n",
    "    for j in range(tensor_indexed_3d.shape[1]):\n",
    "        for k in range(tensor_indexed_3d.shape[2]):\n",
    "            print(tensor_indexed_3d[i][j][k])\n",
    "\n",
    "print(\"slicing the tensor\")\n",
    "print(tensor_indexed_3d[0:1,0:1,0:2]) #slicing the tensor from index 1 to 4"
   ]
  },
  {
   "cell_type": "markdown",
   "metadata": {},
   "source": [
    "tensor math"
   ]
  },
  {
   "cell_type": "code",
   "execution_count": 18,
   "metadata": {},
   "outputs": [
    {
     "name": "stdout",
     "output_type": "stream",
     "text": [
      "tf.Tensor([1 2 0 3], shape=(4,), dtype=int32)\n",
      "tf.Tensor([5. 5. 2. 1.], shape=(4,), dtype=float64)\n"
     ]
    }
   ],
   "source": [
    "x_abs = tf.constant([1,-2,0,3])\n",
    "print(tf.abs(x_abs))\n",
    "complex_abs = tf.constant([3 - 4j, 4 - 3j, 2 + 0j, 0 + 1j])\n",
    "print(tf.abs(complex_abs))"
   ]
  },
  {
   "cell_type": "code",
   "execution_count": 19,
   "metadata": {},
   "outputs": [
    {
     "data": {
      "text/plain": [
       "<tf.Tensor: shape=(3,), dtype=float32, numpy=array([1., 2., 3.], dtype=float32)>"
      ]
     },
     "execution_count": 19,
     "metadata": {},
     "output_type": "execute_result"
    }
   ],
   "source": [
    "tf.sqrt(tf.cast([1.0, 4.0, 9.0], tf.float32))  # [1.0, 2.0, 3.0]"
   ]
  },
  {
   "cell_type": "code",
   "execution_count": 20,
   "metadata": {},
   "outputs": [
    {
     "name": "stdout",
     "output_type": "stream",
     "text": [
      "tf.Tensor([5. 7. 9.], shape=(3,), dtype=float32)\n",
      "tf.Tensor([-3. -3. -3.], shape=(3,), dtype=float32)\n",
      "tf.Tensor([ 4. 10. 18.], shape=(3,), dtype=float32)\n",
      "tf.Tensor([0.25 0.4  0.5 ], shape=(3,), dtype=float32)\n",
      "tf.Tensor([2. 0. 3.], shape=(3,), dtype=float32)\n"
     ]
    }
   ],
   "source": [
    "x1 = tf.constant([1, 2, 3], dtype=tf.float32)\n",
    "x2 = tf.constant([4, 5, 6], dtype=tf.float32)\n",
    "print(tf.add(x1, x2))  \n",
    "print(tf.subtract(x1, x2))\n",
    "print(tf.multiply(x1, x2))\n",
    "print(tf.divide(x1, x2))\n",
    "x3 = tf.constant([0.5, 0, 1], dtype=tf.float32)\n",
    "print(tf.math.divide_no_nan(x1, x3))"
   ]
  },
  {
   "cell_type": "code",
   "execution_count": 21,
   "metadata": {},
   "outputs": [
    {
     "name": "stdout",
     "output_type": "stream",
     "text": [
      "tf.Tensor([2 0 1 0 1 1], shape=(6,), dtype=int64)\n",
      "tf.Tensor([3 2 0], shape=(3,), dtype=int64)\n",
      "tf.Tensor([1 1 2 1 2 2], shape=(6,), dtype=int64)\n",
      "tf.Tensor([2 0 5], shape=(3,), dtype=int64)\n"
     ]
    }
   ],
   "source": [
    "x_argmax = tf.constant([[61, 38, 26, 65, 44, 36],\n",
    "                        [10, 15, 82, 42, 78, 43],\n",
    "                        [71, 30, 22, 57, 42, 16]])\n",
    "x_argmin = tf.constant([[61, 38, 26, 65, 44, 36],\n",
    "                        [10, 15, 82, 42, 78, 43],\n",
    "                        [71, 30, 22, 57, 42, 16]])\n",
    "print(tf.math.argmax(x_argmax)) #returns the index of the maximum value in each column\n",
    "print(tf.math.argmax(x_argmax, axis=1)) #returns the index of the maximum value in each row\n",
    "print(tf.math.argmin(x_argmin)) #returns the index of the minimum value in each column\n",
    "print(tf.math.argmin(x_argmin, axis=1)) #returns the index of the minimum value in each row"
   ]
  },
  {
   "cell_type": "code",
   "execution_count": 22,
   "metadata": {},
   "outputs": [
    {
     "data": {
      "text/plain": [
       "<tf.Tensor: shape=(2, 3), dtype=int32, numpy=\n",
       "array([[          1,         256,       19683],\n",
       "       [    1048576,    48828125, -2118184960]])>"
      ]
     },
     "execution_count": 22,
     "metadata": {},
     "output_type": "execute_result"
    }
   ],
   "source": [
    "x = tf.constant([[1, 2, 3], [4, 5, 6]])\n",
    "y = tf.constant([[7, 8, 9], [10, 11, 12]])\n",
    "tf.pow(x, y)  # [[1^7, 2^8, 3^9], [4^10, 5^11, 6^12]] = [[1, 256, 19683], [1048576, 48828125, 2176782336]]"
   ]
  },
  {
   "cell_type": "code",
   "execution_count": 23,
   "metadata": {},
   "outputs": [
    {
     "name": "stdout",
     "output_type": "stream",
     "text": [
      "tf.Tensor([[35 40 45]], shape=(1, 3), dtype=int32)\n",
      "tf.Tensor(\n",
      "[[ 6]\n",
      " [15]\n",
      " [24]\n",
      " [33]\n",
      " [42]], shape=(5, 1), dtype=int32)\n"
     ]
    }
   ],
   "source": [
    "x_2d = tf.constant([[1, 2, 3],\n",
    "                     [4, 5, 6],\n",
    "                    [7, 8, 9], \n",
    "                    [10, 11, 12],\n",
    "                    [13, 14, 15]])\n",
    "print(tf.math.reduce_sum(\n",
    "    x_2d,\n",
    "    axis=0,\n",
    "    keepdims=True,\n",
    "    name=None))\n",
    "\n",
    "print(tf.math.reduce_sum(\n",
    "    x_2d,\n",
    "    axis=1,\n",
    "    keepdims=True,\n",
    "    name=None))\n"
   ]
  },
  {
   "cell_type": "code",
   "execution_count": 24,
   "metadata": {},
   "outputs": [
    {
     "data": {
      "text/plain": [
       "TopKV2(values=<tf.Tensor: shape=(5, 2), dtype=int32, numpy=\n",
       "array([[ 3,  2],\n",
       "       [ 6,  5],\n",
       "       [ 9,  8],\n",
       "       [12, 11],\n",
       "       [15, 14]])>, indices=<tf.Tensor: shape=(5, 2), dtype=int32, numpy=\n",
       "array([[2, 1],\n",
       "       [2, 1],\n",
       "       [2, 1],\n",
       "       [2, 1],\n",
       "       [2, 1]])>)"
      ]
     },
     "execution_count": 24,
     "metadata": {},
     "output_type": "execute_result"
    }
   ],
   "source": [
    "tf.math.top_k(\n",
    "    x_2d,\n",
    "    k=2,\n",
    "    sorted=True,\n",
    "    name=None\n",
    ")"
   ]
  },
  {
   "cell_type": "markdown",
   "metadata": {},
   "source": [
    "linear algebra operations"
   ]
  },
  {
   "cell_type": "code",
   "execution_count": 25,
   "metadata": {},
   "outputs": [
    {
     "data": {
      "text/plain": [
       "<tf.Tensor: shape=(2, 2), dtype=int32, numpy=\n",
       "array([[ 58,  64],\n",
       "       [139, 154]])>"
      ]
     },
     "execution_count": 25,
     "metadata": {},
     "output_type": "execute_result"
    }
   ],
   "source": [
    "x=tf.constant([[1,2,3],[4,5,6]])\n",
    "y=tf.constant([[7,8],[9,10],[11,12]])\n",
    "tf.linalg.matmul(\n",
    "    x,\n",
    "    y,\n",
    "    transpose_a=False,\n",
    "    transpose_b=False,\n",
    "    adjoint_a=False,\n",
    "    adjoint_b=False,\n",
    "    a_is_sparse=False,\n",
    "    b_is_sparse=False,\n",
    "    name=None\n",
    ")"
   ]
  },
  {
   "cell_type": "code",
   "execution_count": 28,
   "metadata": {},
   "outputs": [
    {
     "data": {
      "text/plain": [
       "<tf.Tensor: shape=(4, 3), dtype=float32, numpy=\n",
       "array([[ 1.,  2.,  0.],\n",
       "       [ 0.,  5., -1.],\n",
       "       [ 0.,  0.,  6.],\n",
       "       [ 0.,  0.,  0.]], dtype=float32)>"
      ]
     },
     "execution_count": 28,
     "metadata": {},
     "output_type": "execute_result"
    }
   ],
   "source": [
    "tensor_two_d = tf.constant([\n",
    "    [1,2,0],\n",
    "    [3,5,-1],\n",
    "    [1,5,6],\n",
    "    [2,3,8]],dtype=tf.float32) \n",
    "# (lower<0 or m - n <= lower) and (upper<0 or n-m <= upper)\n",
    "#m is for rows and n is for columns\n",
    "tf.linalg.band_part( \n",
    "    tensor_two_d,\n",
    "    num_lower=0,\n",
    "    num_upper=1,\n",
    "    name=None\n",
    ")"
   ]
  },
  {
   "cell_type": "code",
   "execution_count": 40,
   "metadata": {},
   "outputs": [
    {
     "name": "stdout",
     "output_type": "stream",
     "text": [
      "tf.Tensor(\n",
      "[[1. 4. 3.]\n",
      " [2. 5. 2.]\n",
      " [3. 6. 1.]], shape=(3, 3), dtype=float32)\n"
     ]
    }
   ],
   "source": [
    "tensor = tf.constant([[1,2,3],[4,5,6],[3,2,1]],dtype=tf.float32)\n",
    "tensor_transpose = tf.linalg.matrix_transpose(\n",
    "    tensor,\n",
    "    conjugate=False,\n",
    "    name=None\n",
    ")\n",
    "print(tensor_transpose)"
   ]
  },
  {
   "cell_type": "code",
   "execution_count": 41,
   "metadata": {},
   "outputs": [
    {
     "data": {
      "text/plain": [
       "<tf.Tensor: shape=(3, 3), dtype=float32, numpy=\n",
       "array([[14., 32., 10.],\n",
       "       [32., 77., 28.],\n",
       "       [10., 28., 14.]], dtype=float32)>"
      ]
     },
     "execution_count": 41,
     "metadata": {},
     "output_type": "execute_result"
    }
   ],
   "source": [
    "tensor@tensor_transpose #matrix multiplication"
   ]
  },
  {
   "cell_type": "code",
   "execution_count": 44,
   "metadata": {},
   "outputs": [
    {
     "name": "stdout",
     "output_type": "stream",
     "text": [
      "s :\n",
      "tf.Tensor([1.0029249e+01 2.1009851e+00 8.8105260e-08], shape=(3,), dtype=float32)\n",
      "u :\n",
      "tf.Tensor(\n",
      "[[ 0.36064753 -0.455819   -0.8137334 ]\n",
      " [ 0.8744579  -0.1382287   0.4649905 ]\n",
      " [ 0.32443294  0.8792734  -0.34874287]], shape=(3, 3), dtype=float32)\n",
      "v :\n",
      "tf.Tensor(\n",
      "[[ 0.4817686   0.7753915   0.40824848]\n",
      " [ 0.5725702   0.07413942 -0.8164965 ]\n",
      " [ 0.66337186 -0.6271134   0.40824822]], shape=(3, 3), dtype=float32)\n"
     ]
    }
   ],
   "source": [
    "s,u,v = tf.linalg.svd(tensor) #singular value decomposition\n",
    "print(\"s :\")\n",
    "print(s)\n",
    "print(\"u :\")\n",
    "print(u)\n",
    "print(\"v :\")\n",
    "print(v)"
   ]
  },
  {
   "cell_type": "code",
   "execution_count": 47,
   "metadata": {},
   "outputs": [
    {
     "name": "stdout",
     "output_type": "stream",
     "text": [
      "Matmul C = : \n",
      " [[33 69 77 -6 27]\n",
      " [ 9 12  0 10 13]\n",
      " [21 51 60 -7 14]]\n",
      "Einsum C = : \n",
      " [[33 69 77 -6 27]\n",
      " [ 9 12  0 10 13]\n",
      " [21 51 60 -7 14]]\n"
     ]
    }
   ],
   "source": [
    "import numpy as np\n",
    "a = np.array([\n",
    "    [2,6,5,2],\n",
    "    [2,-2,2,3],\n",
    "    [1,5,4,0]\n",
    "])\n",
    "\n",
    "b = np.array([\n",
    "    [2,9,0,3,0],\n",
    "    [3,6,8,-2,2],\n",
    "    [1,3,5,0,1],\n",
    "    [3,0,2,0,5]])\n",
    "\n",
    "print(\"Matmul C = : \\n\"\n",
    "      ,np.matmul(a,b))\n",
    "\n",
    "print(\"Einsum C = : \\n\",\n",
    "      np.einsum('ij,jk->ik',a,b))\n"
   ]
  },
  {
   "cell_type": "code",
   "execution_count": 51,
   "metadata": {},
   "outputs": [
    {
     "name": "stdout",
     "output_type": "stream",
     "text": [
      "Einsum C = : \n",
      " [[19 22]\n",
      " [43 50]]\n",
      "Matmul C = : \n",
      " [[19 22]\n",
      " [43 50]]\n",
      "Einsum C = : \n",
      " [[ 5 12]\n",
      " [21 32]]\n"
     ]
    }
   ],
   "source": [
    "A =np.array([[1,2],[3,4]])\n",
    "B =np.array([[5,6],[7,8]])\n",
    "print(\"Einsum C = : \\n\",np.einsum('ij,jk->ik',A,B))\n",
    "print(\"Matmul C = : \\n\",np.matmul(A,B))\n",
    "print(\"Einsum C = : \\n\",np.einsum('ij,ij->ij',A,B))\n"
   ]
  },
  {
   "cell_type": "code",
   "execution_count": 52,
   "metadata": {},
   "outputs": [
    {
     "name": "stdout",
     "output_type": "stream",
     "text": [
      "Transpose A = : \n",
      " [[1 3]\n",
      " [2 4]]\n",
      "Einsum Transpose A = : \n",
      " [[1 3]\n",
      " [2 4]]\n"
     ]
    }
   ],
   "source": [
    "A =np.array([[1,2],[3,4]]) \n",
    "print(\"Transpose A = : \\n\",np.transpose(A))\n",
    "print(\"Einsum Transpose A = : \\n\",np.einsum('ij->ji',A))"
   ]
  },
  {
   "cell_type": "code",
   "execution_count": 57,
   "metadata": {},
   "outputs": [
    {
     "name": "stdout",
     "output_type": "stream",
     "text": [
      "Batch Matmul C = : \n",
      " [[[ 95  19  42]\n",
      "  [184  51  80]\n",
      "  [233  66 111]]\n",
      "\n",
      " [[242  96  35]\n",
      "  [163  89  36]\n",
      "  [241 132  51]]\n",
      "\n",
      " [[190  40  53]\n",
      "  [229  51  65]\n",
      "  [161  29  48]]]\n",
      "Einsum Batch Matmul C = : \n",
      " [[[ 95  19  42]\n",
      "  [184  51  80]\n",
      "  [233  66 111]]\n",
      "\n",
      " [[242  96  35]\n",
      "  [163  89  36]\n",
      "  [241 132  51]]\n",
      "\n",
      " [[190  40  53]\n",
      "  [229  51  65]\n",
      "  [161  29  48]]]\n",
      "Sum of A = : \n",
      " 164\n",
      "Einsum Sum of A = : \n",
      " 164\n"
     ]
    }
   ],
   "source": [
    "#batch matrix multiplication\n",
    "A = np.array([[[1,2,4],[6,3,4],[2,8,7]],\n",
    "              [[9,4,9],[10,3,1],[11,9,1]],\n",
    "              [[12,5,6],[13,7,8],[14,0,5]]])\n",
    "\n",
    "B = np.array([[[15,5,6],[14,7,8],[13,0,5]],\n",
    "              [[12,7,3],[11,6,2],[10,1,0]],\n",
    "              [[9,1,2],[8,2,1],[7,3,4]]])\n",
    "print(\"Batch Matmul C = : \\n\",np.matmul(A,B))\n",
    "print(\"Einsum Batch Matmul C = : \\n\",np.einsum('bij,bjk->bik',A,B))\n",
    "\n",
    "print(\"Sum of A = : \\n\",np.sum(A))\n",
    "print(\"Einsum Sum of A = : \\n\",np.einsum('ijk->',A))"
   ]
  },
  {
   "cell_type": "code",
   "execution_count": 58,
   "metadata": {},
   "outputs": [
    {
     "name": "stdout",
     "output_type": "stream",
     "text": [
      "Attention = : \n",
      " [[2016.10714001 2130.42249331 2244.73784661]\n",
      " [3521.25929179 3720.44513466 3919.63097753]\n",
      " [4828.9576515  5102.6216791  5376.28570669]]\n"
     ]
    }
   ],
   "source": [
    "# attention(Q,K,V) = softmax(QK^T/sqrt(d_k))V\n",
    "#attenstion is used for self attention mechanism in transformer\n",
    "Q = np.array([[1,2,4],[6,3,4],[2,8,7]])\n",
    "K = np.array([[5,6,7],[8,9,10],[11,12,13]])\n",
    "V = np.array([[14,15,16],[17,18,19],[20,21,22]])\n",
    "d_k = 3\n",
    "QK = np.matmul(Q,K.T)\n",
    "QK = QK/np.sqrt(d_k)\n",
    "attention = np.matmul(QK,V)\n",
    "print(\"Attention = : \\n\",attention)"
   ]
  },
  {
   "cell_type": "code",
   "execution_count": 61,
   "metadata": {},
   "outputs": [
    {
     "data": {
      "text/plain": [
       "(32, 64, 128)"
      ]
     },
     "execution_count": 61,
     "metadata": {},
     "output_type": "execute_result"
    }
   ],
   "source": [
    "Q = np.random.rand(32,64,512)\n",
    "#Q = batchsize, s_q,modelsize\n",
    "#K = batchsize, s_k,modelsize\n",
    "#s_q and s_k are the sequence length\n",
    "K = np.random.rand(32,128,512)\n",
    "np.einsum('bqm,bkm->bqk',Q,K).shape"
   ]
  },
  {
   "cell_type": "code",
   "execution_count": 66,
   "metadata": {},
   "outputs": [
    {
     "data": {
      "text/plain": [
       "(2, 4, 1, 2)"
      ]
     },
     "execution_count": 66,
     "metadata": {},
     "output_type": "execute_result"
    }
   ],
   "source": [
    "#batch and chunks for matrix size 4*8,chunks size 4*2\n",
    "A = np.random.rand(2,4,4,2) #(chunk,batch,\n",
    "B = np.random.rand(2,4,4,1)\n",
    "np.einsum('bcij,bcik->bckj',A,B).shape"
   ]
  },
  {
   "cell_type": "code",
   "execution_count": 85,
   "metadata": {},
   "outputs": [
    {
     "name": "stdout",
     "output_type": "stream",
     "text": [
      "(3, 3, 3)\n",
      "(1, 3, 3, 3)\n",
      "(3, 1, 3)\n",
      "(1, 3, 3)\n",
      "(3, 3, 1)\n",
      "squeezed: (3, 3)\n",
      "reshape: (1, 9)\n"
     ]
    }
   ],
   "source": [
    "tensor = tf.constant([[[1,2,3],[4,5,6],[3,2,1]],\n",
    "                      [[4,5,6],[7,8,9],[6,5,4]],\n",
    "                      [[3,2,1],[6,5,4],[9,8,7]]],\n",
    "                     dtype=tf.float32)\n",
    "print(tensor.shape)\n",
    "print(tf.expand_dims(tensor,axis=0).shape)\n",
    "\n",
    "x = tf.constant([[3,4,5],[9,5,2],[7,3,1]],dtype=tf.float32)\n",
    "print(tf.expand_dims(x,axis=1).shape)\n",
    "print(tf.expand_dims(x,axis=0).shape)\n",
    "print(tf.expand_dims(x,axis=2).shape)\n",
    "x_squeezed = tf.squeeze(x)\n",
    "print(\"squeezed:\",x_squeezed.shape)\n",
    "print(\"reshape:\",tf.reshape(x,[1,9]).shape)"
   ]
  },
  {
   "cell_type": "code",
   "execution_count": 88,
   "metadata": {},
   "outputs": [
    {
     "name": "stdout",
     "output_type": "stream",
     "text": [
      "(6, 3)\n",
      "tf.Tensor(\n",
      "[[1. 2. 3.]\n",
      " [4. 5. 6.]\n",
      " [3. 2. 1.]\n",
      " [4. 5. 6.]\n",
      " [7. 8. 9.]\n",
      " [6. 5. 4.]], shape=(6, 3), dtype=float32)\n",
      "(3, 6)\n",
      "tf.Tensor(\n",
      "[[1. 2. 3. 4. 5. 6.]\n",
      " [4. 5. 6. 7. 8. 9.]\n",
      " [3. 2. 1. 6. 5. 4.]], shape=(3, 6), dtype=float32)\n"
     ]
    }
   ],
   "source": [
    "t1 = tf.constant([[1,2,3],[4,5,6],[3,2,1]],dtype=tf.float32)\n",
    "t2 = tf.constant([[4,5,6],[7,8,9],[6,5,4]],dtype=tf.float32)\n",
    "print(tf.concat([t1,t2],axis=0).shape)\n",
    "print(tf.concat([t1,t2],axis=0))\n",
    "print(tf.concat([t1,t2],axis=1).shape)\n",
    "print(tf.concat([t1,t2],axis=1))\n"
   ]
  },
  {
   "cell_type": "code",
   "execution_count": 97,
   "metadata": {},
   "outputs": [
    {
     "name": "stdout",
     "output_type": "stream",
     "text": [
      "(2, 3, 3)\n",
      "(3, 2, 3)\n"
     ]
    }
   ],
   "source": [
    "print(tf.stack([t1,t2],axis=0).shape)\n",
    "print(tf.stack([t1,t2],axis=1).shape)"
   ]
  },
  {
   "cell_type": "code",
   "execution_count": 99,
   "metadata": {},
   "outputs": [
    {
     "data": {
      "text/plain": [
       "TensorShape([2, 3, 3])"
      ]
     },
     "execution_count": 99,
     "metadata": {},
     "output_type": "execute_result"
    }
   ],
   "source": [
    "tf.concat([tf.expand_dims(t1,axis=0),tf.expand_dims(t2,axis=0)],axis=0).shape"
   ]
  },
  {
   "cell_type": "code",
   "execution_count": 102,
   "metadata": {},
   "outputs": [
    {
     "name": "stdout",
     "output_type": "stream",
     "text": [
      "tf.Tensor(\n",
      "[[0. 0. 0. 0. 0. 0.]\n",
      " [0. 0. 1. 2. 3. 0.]\n",
      " [0. 0. 4. 5. 6. 0.]\n",
      " [0. 0. 3. 2. 1. 0.]\n",
      " [0. 0. 0. 0. 0. 0.]\n",
      " [0. 0. 0. 0. 0. 0.]], shape=(6, 6), dtype=float32)\n",
      "tf.Tensor(\n",
      "[[6. 5. 4. 5. 6. 5.]\n",
      " [3. 2. 1. 2. 3. 2.]\n",
      " [6. 5. 4. 5. 6. 5.]\n",
      " [1. 2. 3. 2. 1. 2.]\n",
      " [6. 5. 4. 5. 6. 5.]\n",
      " [3. 2. 1. 2. 3. 2.]], shape=(6, 6), dtype=float32)\n",
      "tf.Tensor(\n",
      "[[2. 1. 1. 2. 3. 3.]\n",
      " [2. 1. 1. 2. 3. 3.]\n",
      " [5. 4. 4. 5. 6. 6.]\n",
      " [2. 3. 3. 2. 1. 1.]\n",
      " [2. 3. 3. 2. 1. 1.]\n",
      " [5. 4. 4. 5. 6. 6.]], shape=(6, 6), dtype=float32)\n"
     ]
    }
   ],
   "source": [
    "print(tf.pad(\n",
    "    t1,\n",
    "    paddings=[[1, 2], [2, 1]],\n",
    "    mode='CONSTANT',\n",
    "    constant_values=0,\n",
    "    name=None\n",
    "))\n",
    "\n",
    "print(tf.pad(\n",
    "    t1,\n",
    "    paddings=[[1, 2], [2, 1]],\n",
    "    mode='REFLECT',\n",
    "    constant_values=0,\n",
    "    name=None\n",
    "))\n",
    "\n",
    "print(tf.pad(\n",
    "    t1,\n",
    "    paddings=[[1, 2], [2, 1]],\n",
    "    mode='SYMMETRIC',\n",
    "    constant_values=0,\n",
    "    name=None\n",
    "))"
   ]
  },
  {
   "cell_type": "code",
   "execution_count": 110,
   "metadata": {},
   "outputs": [
    {
     "name": "stdout",
     "output_type": "stream",
     "text": [
      "tf.Tensor(\n",
      "[[1. 2. 3. 1. 2. 3. 1. 2. 3.]\n",
      " [4. 5. 6. 4. 5. 6. 4. 5. 6.]\n",
      " [3. 2. 1. 3. 2. 1. 3. 2. 1.]], shape=(3, 9), dtype=float32)\n",
      "tf.Tensor([b'p1' b'p2' b'p3'], shape=(3,), dtype=string)\n",
      "tf.Tensor([b'p1' b'p2' b'p3'], shape=(3,), dtype=string)\n",
      "tf.Tensor([b'p0' b'p5' b'p3'], shape=(3,), dtype=string)\n"
     ]
    }
   ],
   "source": [
    "params = tf.constant([[1,2,3],[4,5,6],[3,2,1]],dtype=tf.float32)\n",
    "print(tf.tile(params,[1,3]))\n",
    "\n",
    "paramss = tf.constant(['p0','p1','p2','p3','p4','p5'])\n",
    "print(paramss[1:4])\n",
    "print(tf.gather(paramss,tf.range(1,4)))\n",
    "print(tf.gather(paramss,[0,5,3]))"
   ]
  },
  {
   "cell_type": "code",
   "execution_count": 113,
   "metadata": {},
   "outputs": [
    {
     "name": "stdout",
     "output_type": "stream",
     "text": [
      "tf.Tensor(\n",
      "[[ 0.  1.  2.]\n",
      " [30. 31. 32.]], shape=(2, 3), dtype=float32)\n",
      "tf.Tensor(\n",
      "[[ 0.  1.]\n",
      " [10. 11.]\n",
      " [20. 21.]\n",
      " [30. 31.]], shape=(4, 2), dtype=float32)\n"
     ]
    }
   ],
   "source": [
    "params = tf.constant(\n",
    "    [\n",
    "        [0,1,2],\n",
    "        [10,11,12],\n",
    "        [20,21,22],\n",
    "        [30,31,32]\n",
    "    ],dtype = tf.float32\n",
    ")\n",
    "print(tf.gather(params,[0,3],axis=0))\n",
    "print(tf.gather(params,[0,1],axis=1))"
   ]
  },
  {
   "cell_type": "code",
   "execution_count": 117,
   "metadata": {},
   "outputs": [
    {
     "name": "stdout",
     "output_type": "stream",
     "text": [
      "tf.Tensor(\n",
      "[[10. 11. 12.]\n",
      " [20. 21. 22.]], shape=(2, 3), dtype=float32)\n"
     ]
    },
    {
     "data": {
      "text/plain": [
       "<tf.Tensor: shape=(2, 2), dtype=string, numpy=\n",
       "array([[b'c0', b'd0'],\n",
       "       [b'a1', b'b1']], dtype=object)>"
      ]
     },
     "execution_count": 117,
     "metadata": {},
     "output_type": "execute_result"
    }
   ],
   "source": [
    "# tf.gather_nd\n",
    "params = tf.constant(\n",
    "    [\n",
    "        [0,1,2],\n",
    "        [10,11,12],\n",
    "        [20,21,22],\n",
    "        [30,31,32]\n",
    "    ],dtype = tf.float32\n",
    ")\n",
    "indices = tf.constant([[1],[2]])\n",
    "print(tf.gather_nd(params,indices))\n",
    "\n",
    "params = tf.constant(\n",
    "    [\n",
    "        [\n",
    "            ['a0','b0'],\n",
    "            ['c0','d0']\n",
    "        ],\n",
    "        [\n",
    "            ['a1','b1'],\n",
    "            ['c1','d1']\n",
    "        ]\n",
    "    ]\n",
    ")\n",
    "\n",
    "indices = tf.constant([[0,1],[1,0]])\n",
    "\n",
    "tf.gather_nd(params,indices)"
   ]
  },
  {
   "cell_type": "markdown",
   "metadata": {},
   "source": [
    "ragged tensors"
   ]
  },
  {
   "cell_type": "code",
   "execution_count": 126,
   "metadata": {},
   "outputs": [
    {
     "name": "stdout",
     "output_type": "stream",
     "text": [
      "(3, 3)\n",
      "<tf.RaggedTensor [[1, 2, 3], [4], [2, 1, 3], [3, 2]]>\n"
     ]
    }
   ],
   "source": [
    "tensor_2d = tf.constant([\n",
    "    [1,2,3],\n",
    "    [4,5,6],\n",
    "    [3,2,1]],dtype=tf.float32)\n",
    "\n",
    "print(tensor_2d.shape)\n",
    "\n",
    "tensor_2ds = [\n",
    "    [1,2,3],\n",
    "    [4,],\n",
    "    [2,1,3],\n",
    "    [3,2]]\n",
    "tensor_2ds = tf.ragged.constant(tensor_2ds)\n",
    "\n",
    "print(tensor_2ds)"
   ]
  },
  {
   "cell_type": "code",
   "execution_count": 127,
   "metadata": {},
   "outputs": [
    {
     "name": "stdout",
     "output_type": "stream",
     "text": [
      "<tf.RaggedTensor [[3, 1, 4, 1], [], [5, 9, 2], [6], []]>\n"
     ]
    }
   ],
   "source": [
    "print(tensor_2ds.from_row_lengths(\n",
    "    values = [3,1,4,1,5,9,2,6],\n",
    "    row_lengths=[4,0,3,1,0]\n",
    "))"
   ]
  },
  {
   "cell_type": "code",
   "execution_count": 135,
   "metadata": {},
   "outputs": [
    {
     "name": "stdout",
     "output_type": "stream",
     "text": [
      "SparseTensor(indices=tf.Tensor(\n",
      "[[1 1]\n",
      " [3 4]], shape=(2, 2), dtype=int64), values=tf.Tensor([11 56], shape=(2,), dtype=int32), dense_shape=tf.Tensor([5 6], shape=(2,), dtype=int64))\n",
      "--------------------------------------------------------------\n",
      "tf.Tensor(\n",
      "[[ 0  0  0  0  0  0]\n",
      " [ 0 11  0  0  0  0]\n",
      " [ 0  0  0  0  0  0]\n",
      " [ 0  0  0  0 56  0]\n",
      " [ 0  0  0  0  0  0]], shape=(5, 6), dtype=int32)\n"
     ]
    }
   ],
   "source": [
    "print(tf.sparse.SparseTensor(\n",
    "    indices=[[1, 1], [3, 4]],\n",
    "    values=[11, 56],\n",
    "    dense_shape=[5, 6]\n",
    "))\n",
    "print(\"--------------------------------------------------------------\")\n",
    "print(tf.sparse.to_dense(tf.sparse.SparseTensor(\n",
    "    indices=[[1, 1], [3, 4]],\n",
    "    values=[11, 56],\n",
    "    dense_shape=[5, 6])\n",
    "))\n"
   ]
  },
  {
   "cell_type": "code",
   "execution_count": 139,
   "metadata": {},
   "outputs": [
    {
     "name": "stdout",
     "output_type": "stream",
     "text": [
      "tf.Tensor([b'Hello, World!' b'Hi'], shape=(2,), dtype=string)\n",
      "tf.Tensor(b'Hello, World! Hi', shape=(), dtype=string)\n",
      "tf.Tensor([b'hello, world!' b'hi'], shape=(2,), dtype=string)\n",
      "tf.Tensor([b'HELLO, WORLD!' b'HI'], shape=(2,), dtype=string)\n"
     ]
    }
   ],
   "source": [
    "tensor_string = tf.constant([\"Hello, World!\",\"Hi\"])\n",
    "print(tensor_string)\n",
    "print(tf.strings.join(tensor_string,separator=\" \"))\n",
    "print(tf.strings.lower(tensor_string))\n",
    "print(tf.strings.upper(tensor_string))"
   ]
  },
  {
   "cell_type": "code",
   "execution_count": 149,
   "metadata": {},
   "outputs": [
    {
     "name": "stdout",
     "output_type": "stream",
     "text": [
      "<tf.Variable 'var1:0' shape=(2, 3) dtype=int32, numpy=\n",
      "array([[1, 2, 3],\n",
      "       [4, 5, 6]])>\n",
      "<tf.Variable 'UnreadVariable' shape=(2, 3) dtype=int32, numpy=\n",
      "array([[4, 5, 6],\n",
      "       [7, 8, 9]])>\n",
      "<tf.Variable 'UnreadVariable' shape=(2, 3) dtype=int32, numpy=\n",
      "array([[ 5,  6,  7],\n",
      "       [ 8,  9, 10]])>\n",
      "<tf.Variable 'UnreadVariable' shape=(2, 3) dtype=int32, numpy=\n",
      "array([[ 2, -1,  6],\n",
      "       [ 0,  7,  1]])>\n"
     ]
    }
   ],
   "source": [
    "x=tf.constant([[1,2,3],[4,5,6]])\n",
    "x_var = tf.Variable(x,name =\"var1\",trainable=True)\n",
    "print(x_var)\n",
    "print(x_var.assign([[4,5,6],[7,8,9]]))\n",
    "print(x_var.assign_add([[1,1,1],[1,1,1]]))\n",
    "print(x_var.assign_sub([[3,7,1],[8,2,9]]))"
   ]
  },
  {
   "cell_type": "code",
   "execution_count": 161,
   "metadata": {},
   "outputs": [
    {
     "name": "stdout",
     "output_type": "stream",
     "text": [
      "<tf.Variable 'var1:0' shape=(2, 3) dtype=int32, numpy=\n",
      "array([[1, 2, 3],\n",
      "       [4, 5, 6]])>\n",
      "tf.Tensor(\n",
      "[[1 2 3]\n",
      " [4 5 6]], shape=(2, 3), dtype=int32)\n",
      "/job:localhost/replica:0/task:0/device:CPU:0\n",
      "/job:localhost/replica:0/task:0/device:CPU:0\n"
     ]
    }
   ],
   "source": [
    "with tf.device('GPU:0'):\n",
    "    x_var = tf.Variable([[1,2,3],[4,5,6]],name =\"var1\",trainable=True)\n",
    "    print(x_var)\n",
    "\n",
    "with tf.device('CPU:0'):\n",
    "    x_tensor = tf.constant([[1,2,3],[4,5,6]])\n",
    "    print(x_tensor)\n",
    "\n",
    "print(x_var.device)\n",
    "print(x_tensor.device)"
   ]
  }
 ],
 "metadata": {
  "kernelspec": {
   "display_name": "Python 3",
   "language": "python",
   "name": "python3"
  },
  "language_info": {
   "codemirror_mode": {
    "name": "ipython",
    "version": 3
   },
   "file_extension": ".py",
   "mimetype": "text/x-python",
   "name": "python",
   "nbconvert_exporter": "python",
   "pygments_lexer": "ipython3",
   "version": "3.11.8"
  }
 },
 "nbformat": 4,
 "nbformat_minor": 2
}
